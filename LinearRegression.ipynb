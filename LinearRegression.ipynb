{
  "nbformat": 4,
  "nbformat_minor": 0,
  "metadata": {
    "colab": {
      "provenance": [],
      "authorship_tag": "ABX9TyNXuDg3UIlYZBbToROavhZM",
      "include_colab_link": true
    },
    "kernelspec": {
      "name": "python3",
      "display_name": "Python 3"
    },
    "language_info": {
      "name": "python"
    }
  },
  "cells": [
    {
      "cell_type": "markdown",
      "metadata": {
        "id": "view-in-github",
        "colab_type": "text"
      },
      "source": [
        "<a href=\"https://colab.research.google.com/github/emeyer121/quant_neuro_hw/blob/main/LinearRegression.ipynb\" target=\"_parent\"><img src=\"https://colab.research.google.com/assets/colab-badge.svg\" alt=\"Open In Colab\"/></a>"
      ]
    },
    {
      "cell_type": "code",
      "execution_count": 28,
      "metadata": {
        "colab": {
          "base_uri": "https://localhost:8080/",
          "height": 265
        },
        "id": "NWMonqRoY1cR",
        "outputId": "36ccbe34-a76b-45c0-dc77-d731bac91a0e"
      },
      "outputs": [
        {
          "output_type": "display_data",
          "data": {
            "text/plain": [
              "<Figure size 432x288 with 1 Axes>"
            ],
            "image/png": "[encoded data removed]"
          },
          "metadata": {
            "needs_background": "light"
          }
        }
      ],
      "source": [
        "import numpy as np\n",
        "import matplotlib.pyplot as plt\n",
        "from sklearn.linear_model import LinearRegression\n",
        "import statsmodels.api as sm\n",
        "\n",
        "# Q1\n",
        "age = np.array([3,4,5,6,7,8,9,11,12,14,15,16,17]).reshape(-1,1)\n",
        "wing_length = np.array([1.4,1.5,2.2,2.4,3.1,3.2,3.2,3.9,4.1,4.7,4.5,5.2,5.0]).reshape(-1,1)\n",
        "\n",
        "plt.scatter(age,wing_length,)\n",
        "plt.show()"
      ]
    },
    {
      "cell_type": "code",
      "source": [
        "# Q2\n",
        "reg = LinearRegression().fit(age, wing_length)\n",
        "reg.coef_\n",
        "reg.intercept_\n",
        "\n",
        "Y = age*reg.coef_ + reg.intercept_\n",
        "print(Y)\n",
        "\n",
        "plt.plot(age,Y)\n",
        "plt.scatter(age,wing_length,)\n",
        "plt.show()"
      ],
      "metadata": {
        "colab": {
          "base_uri": "https://localhost:8080/",
          "height": 494
        },
        "id": "2H1OeMeBc4p2",
        "outputId": "6bf1c4ff-eb82-4c64-f516-5c782d21a935"
      },
      "execution_count": 25,
      "outputs": [
        {
          "output_type": "stream",
          "name": "stdout",
          "text": [
            "[[1.62367672]\n",
            " [1.88836084]\n",
            " [2.15304496]\n",
            " [2.41772908]\n",
            " [2.6824132 ]\n",
            " [2.94709732]\n",
            " [3.21178145]\n",
            " [3.74114969]\n",
            " [4.00583381]\n",
            " [4.53520205]\n",
            " [4.79988617]\n",
            " [5.06457029]\n",
            " [5.32925441]]\n"
          ]
        },
        {
          "output_type": "display_data",
          "data": {
            "text/plain": [
              "<Figure size 432x288 with 1 Axes>"
            ],
            "image/png": "[encoded data removed]"
          },
          "metadata": {
            "needs_background": "light"
          }
        }
      ]
    },
    {
      "cell_type": "code",
      "source": [
        "# Q3\n",
        "\n",
        "#add constant to predictor variables\n",
        "x = sm.add_constant(age)\n",
        "\n",
        "#fit linear regression model\n",
        "model = sm.OLS(wing_length, x).fit()\n",
        "\n",
        "#view model summary\n",
        "print(model.summary())\n",
        "\n",
        "print('We reject H_0')"
      ],
      "metadata": {
        "colab": {
          "base_uri": "https://localhost:8080/"
        },
        "id": "VYCH8GLkfYhV",
        "outputId": "654c81ea-063f-4681-9767-d5454469bb60"
      },
      "execution_count": 31,
      "outputs": [
        {
          "output_type": "stream",
          "name": "stdout",
          "text": [
            "                            OLS Regression Results                            \n",
            "==============================================================================\n",
            "Dep. Variable:                      y   R-squared:                       0.963\n",
            "Model:                            OLS   Adj. R-squared:                  0.960\n",
            "Method:                 Least Squares   F-statistic:                     289.4\n",
            "Date:                Tue, 04 Oct 2022   Prob (F-statistic):           3.01e-09\n",
            "Time:                        01:08:38   Log-Likelihood:                0.36312\n",
            "No. Observations:                  13   AIC:                             3.274\n",
            "Df Residuals:                      11   BIC:                             4.404\n",
            "Df Model:                           1                                         \n",
            "Covariance Type:            nonrobust                                         \n",
            "==============================================================================\n",
            "                 coef    std err          t      P>|t|      [0.025      0.975]\n",
            "------------------------------------------------------------------------------\n",
            "const          0.8296      0.168      4.946      0.000       0.460       1.199\n",
            "x1             0.2647      0.016     17.012      0.000       0.230       0.299\n",
            "==============================================================================\n",
            "Omnibus:                        0.558   Durbin-Watson:                   1.621\n",
            "Prob(Omnibus):                  0.757   Jarque-Bera (JB):                0.572\n",
            "Skew:                          -0.186   Prob(JB):                        0.751\n",
            "Kurtosis:                       2.042   Cond. No.                         25.7\n",
            "==============================================================================\n",
            "\n",
            "Notes:\n",
            "[1] Standard Errors assume that the covariance matrix of the errors is correctly specified.\n",
            "We reject H_0\n"
          ]
        },
        {
          "output_type": "stream",
          "name": "stderr",
          "text": [
            "/usr/local/lib/python3.7/dist-packages/scipy/stats/stats.py:1542: UserWarning: kurtosistest only valid for n>=20 ... continuing anyway, n=13\n",
            "  \"anyway, n=%i\" % int(n))\n"
          ]
        }
      ]
    },
    {
      "cell_type": "code",
      "source": [
        "# Q4\n",
        "t = 17.012\n",
        "MSE = 0.016\n",
        "ci = t*np.sqrt(MSE / np.sum((age - np.mean(age))**2))\n",
        "print(ci)\n",
        "\n",
        "plt.plot(age,Y+ci)\n",
        "plt.plot(age,Y-ci)\n",
        "plt.plot(age,Y)\n",
        "plt.scatter(age,wing_length,)\n",
        "plt.show()"
      ],
      "metadata": {
        "colab": {
          "base_uri": "https://localhost:8080/",
          "height": 282
        },
        "id": "K5Mu0viRhT5C",
        "outputId": "e35b6a0f-2ba7-48ee-b196-e20263cd5c04"
      },
      "execution_count": 35,
      "outputs": [
        {
          "output_type": "stream",
          "name": "stdout",
          "text": [
            "0.1308838805847633\n"
          ]
        },
        {
          "output_type": "display_data",
          "data": {
            "text/plain": [
              "<Figure size 432x288 with 1 Axes>"
            ],
            "image/png": "[encoded data removed]"
          },
          "metadata": {
            "needs_background": "light"
          }
        }
      ]
    },
    {
      "cell_type": "code",
      "source": [
        "# Q5\n",
        "print('r2 = 0.963')"
      ],
      "metadata": {
        "colab": {
          "base_uri": "https://localhost:8080/"
        },
        "id": "sG-NgQz2k-lk",
        "outputId": "b680ee6b-a6f9-4462-bc4d-a1273cf1e15b"
      },
      "execution_count": 36,
      "outputs": [
        {
          "output_type": "stream",
          "name": "stdout",
          "text": [
            "r2 = 0.963\n"
          ]
        }
      ]
    },
    {
      "cell_type": "code",
      "source": [
        "# Q6\n",
        "from numpy import cov\n",
        "from numpy.random import seed\n",
        "seed(1)\n",
        "from scipy.stats import pearsonr\n",
        "age = [3,4,5,6,7,8,9,11,12,14,15,16,17]\n",
        "wing_length = [1.4,1.5,2.2,2.4,3.1,3.2,3.2,3.9,4.1,4.7,4.5,5.2,5.0]\n",
        "\n",
        "covariance = cov(age, wing_length)\n",
        "print(covariance)\n",
        "corr, _ = pearsonr(age, wing_length)\n",
        "print('Pearsons correlation: %.3f' % corr)"
      ],
      "metadata": {
        "colab": {
          "base_uri": "https://localhost:8080/"
        },
        "id": "KDtuJPW6lIMG",
        "outputId": "a065b70b-0d8a-451b-83f4-75f45e42b567"
      },
      "execution_count": 39,
      "outputs": [
        {
          "output_type": "stream",
          "name": "stdout",
          "text": [
            "[[22.52564103  5.96217949]\n",
            " [ 5.96217949  1.63807692]]\n",
            "Pearsons correlation: 0.982\n"
          ]
        }
      ]
    },
    {
      "cell_type": "code",
      "source": [
        "noise = np.random.normal(0,0.1,13)\n",
        "age = np.array(age).reshape(-1,1)\n",
        "new_wing_length = np.array(wing_length + noise).reshape(-1,1)\n",
        "\n",
        "reg = LinearRegression().fit(age, new_wing_length)\n",
        "print(reg.coef_)\n",
        "print(reg.intercept_)\n",
        "\n",
        "Y = age*reg.coef_ + reg.intercept_\n",
        "\n",
        "plt.plot(age,Y)\n",
        "plt.scatter(age,wing_length)\n",
        "plt.show()"
      ],
      "metadata": {
        "colab": {
          "base_uri": "https://localhost:8080/",
          "height": 301
        },
        "id": "n0rjRJgZlpb0",
        "outputId": "82d41194-041f-4ea0-cde4-9729dac17e80"
      },
      "execution_count": 48,
      "outputs": [
        {
          "output_type": "stream",
          "name": "stdout",
          "text": [
            "[[0.27017267]]\n",
            "[0.78542236]\n"
          ]
        },
        {
          "output_type": "display_data",
          "data": {
            "text/plain": [
              "<Figure size 432x288 with 1 Axes>"
            ],
            "image/png": "[encoded data removed]"
          },
          "metadata": {
            "needs_background": "light"
          }
        }
      ]
    }
  ]
}