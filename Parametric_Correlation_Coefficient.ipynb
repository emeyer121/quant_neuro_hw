{
  "nbformat": 4,
  "nbformat_minor": 0,
  "metadata": {
    "colab": {
      "provenance": [],
      "authorship_tag": "ABX9TyNe5r8+r86ueOrfi66Tq6o1",
      "include_colab_link": true
    },
    "kernelspec": {
      "name": "python3",
      "display_name": "Python 3"
    },
    "language_info": {
      "name": "python"
    }
  },
  "cells": [
    {
      "cell_type": "markdown",
      "metadata": {
        "id": "view-in-github",
        "colab_type": "text"
      },
      "source": [
        "<a href=\"https://colab.research.google.com/github/emeyer121/quant_neuro_hw/blob/main/Parametric_Correlation_Coefficient.ipynb\" target=\"_parent\"><img src=\"https://colab.research.google.com/assets/colab-badge.svg\" alt=\"Open In Colab\"/></a>"
      ]
    },
    {
      "cell_type": "code",
      "execution_count": 3,
      "metadata": {
        "colab": {
          "base_uri": "https://localhost:8080/",
          "height": 265
        },
        "id": "npzUcPjpgqUT",
        "outputId": "5a4d9a4c-4fc3-4ab6-e338-6a8e10ef7323"
      },
      "outputs": [
        {
          "output_type": "display_data",
          "data": {
            "text/plain": [
              "<Figure size 432x288 with 1 Axes>"
            ],
            "image/png": "[encoded data removed]"
          },
          "metadata": {
            "needs_background": "light"
          }
        }
      ],
      "source": [
        "from matplotlib import pyplot as plt\n",
        "import numpy as np\n",
        "\n",
        "# Part 1\n",
        "wing_length = [10.4, 10.8, 11.1, 10.2, 10.3, 10.2, 10.7, 10.5, 10.8, 11.2, 10.6, 11.4]\n",
        "tail_length = [7.4, 7.6, 7.9, 7.2, 7.4, 7.1, 7.4, 7.2, 7.8, 7.7, 7.8, 8.3]\n",
        "\n",
        "plt.scatter(wing_length,tail_length)\n",
        "plt.show()"
      ]
    },
    {
      "cell_type": "code",
      "source": [
        "# Part 2\n",
        "xdiff = wing_length - np.mean(wing_length)\n",
        "ydiff = tail_length - np.mean(tail_length)\n",
        "\n",
        "#r_X,Y is the same as r_Y,X\n",
        "r_manual = np.dot(xdiff,ydiff) / (np.sqrt(np.sum(xdiff**2))*np.sqrt(np.sum(ydiff**2)))\n",
        "print(r_manual)\n",
        "\n",
        "r_corrcoef = np.corrcoef(wing_length,tail_length)\n",
        "print(r_corrcoef)"
      ],
      "metadata": {
        "colab": {
          "base_uri": "https://localhost:8080/"
        },
        "id": "ukXYzr76hgn6",
        "outputId": "67e163ec-4f67-4872-fba1-91b34ca52eb8"
      },
      "execution_count": 13,
      "outputs": [
        {
          "output_type": "stream",
          "name": "stdout",
          "text": [
            "0.8703545613058227\n",
            "[[1.         0.87035456]\n",
            " [0.87035456 1.        ]]\n"
          ]
        }
      ]
    },
    {
      "cell_type": "code",
      "source": [
        "# Part 3\n",
        "sr = np.sqrt((1-r_manual**2) / (len(wing_length)-2))\n",
        "print(sr)\n",
        "\n",
        "z = 0.5 * np.log((1+r_manual)/(1-r_manual))\n",
        "sz = np.sqrt(1/(len(wing_length)-3))\n",
        "print(z,sz)\n",
        "\n",
        "conf_int = [z-1.96*sz, z+1.96*sz]\n",
        "print(conf_int)\n",
        "\n",
        "newr = (np.exp(np.array(conf_int)*2)-1) / (np.exp(2*np.array(conf_int))+1)\n",
        "print(newr)"
      ],
      "metadata": {
        "colab": {
          "base_uri": "https://localhost:8080/"
        },
        "id": "EpFv-fHzj33u",
        "outputId": "c05ea55d-3105-4d8f-b2fe-6a77da300840"
      },
      "execution_count": 27,
      "outputs": [
        {
          "output_type": "stream",
          "name": "stdout",
          "text": [
            "0.15571863652567375\n",
            "1.334539983587134 0.3333333333333333\n",
            "[0.6812066502538008, 1.9878733169204674]\n",
            "[0.59230328 0.96316073]\n"
          ]
        }
      ]
    },
    {
      "cell_type": "code",
      "source": [
        "# Part 4\n",
        "t = r_manual / sr\n",
        "print(t)\n",
        "\n",
        "# Yes I reject null hypothesis because this lies outside our confidence interval"
      ],
      "metadata": {
        "colab": {
          "base_uri": "https://localhost:8080/"
        },
        "id": "xO7z_BR0nDJb",
        "outputId": "7fd47d3c-b56d-4ccf-fc94-9ab197672d5f"
      },
      "execution_count": 28,
      "outputs": [
        {
          "output_type": "stream",
          "name": "stdout",
          "text": [
            "5.589276792584329\n"
          ]
        }
      ]
    },
    {
      "cell_type": "code",
      "source": [
        "# Part 5\n",
        "z_yale = 0.5 * np.log((1+0.75)/(1-0.75))\n",
        "print(z_yale)\n",
        "\n",
        "l = (z - z_yale) / np.sqrt(1/(len(wing_length)-3))\n",
        "print(l)\n",
        "\n",
        "# This lies within the confidence interval so we cannot reject that they are different"
      ],
      "metadata": {
        "colab": {
          "base_uri": "https://localhost:8080/"
        },
        "id": "mQV-MIXSoPw2",
        "outputId": "c06347c7-6f40-4dfe-e7e0-5f7a8a1045e1"
      },
      "execution_count": 31,
      "outputs": [
        {
          "output_type": "stream",
          "name": "stdout",
          "text": [
            "0.9729550745276566\n",
            "1.0847547271784326\n"
          ]
        }
      ]
    },
    {
      "cell_type": "code",
      "source": [
        "# Part 6\n",
        "t = 0.5 / sr\n",
        "print(t)\n",
        "\n",
        "# calculate N for max interval value?"
      ],
      "metadata": {
        "colab": {
          "base_uri": "https://localhost:8080/"
        },
        "id": "uyZ6gB4rpZU_",
        "outputId": "ab1ca104-8a19-426e-a214-a02bee086747"
      },
      "execution_count": 32,
      "outputs": [
        {
          "output_type": "stream",
          "name": "stdout",
          "text": [
            "3.2109194580416434\n"
          ]
        }
      ]
    }
  ]
}