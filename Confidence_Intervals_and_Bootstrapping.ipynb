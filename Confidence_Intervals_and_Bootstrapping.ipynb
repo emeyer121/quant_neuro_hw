{
  "nbformat": 4,
  "nbformat_minor": 0,
  "metadata": {
    "colab": {
      "provenance": []
    },
    "kernelspec": {
      "name": "python3",
      "display_name": "Python 3"
    },
    "language_info": {
      "name": "python"
    }
  },
  "cells": [
    {
      "cell_type": "code",
      "source": [
        "import numpy as np\n",
        "import random as rnd\n",
        "import collections\n",
        "import matplotlib.pyplot as plt\n",
        "import time\n",
        "import scipy.stats as st\n",
        "import math\n",
        "\n",
        "from scipy.stats import bernoulli, binom, poisson, chi2\n",
        "from IPython.display import clear_output\n",
        "from operator import itemgetter\n",
        "from statsmodels.stats import proportion\n",
        "\n",
        "from numpy import matlib"
      ],
      "metadata": {
        "id": "VXBXT4vho0WY"
      },
      "execution_count": 2,
      "outputs": []
    },
    {
      "cell_type": "code",
      "execution_count": 22,
      "metadata": {
        "colab": {
          "base_uri": "https://localhost:8080/"
        },
        "id": "hwJf3tXInDrQ",
        "outputId": "6749c87f-3c40-4aee-af76-68934fefd4ac"
      },
      "outputs": [
        {
          "output_type": "stream",
          "name": "stdout",
          "text": [
            "Standard Error Intervals:\n",
            "[ 7.82  10.641]\n",
            "[ 7.844 11.105]\n",
            "[ 8.763 10.717]\n",
            "[ 9.195 10.471]\n",
            "[ 9.63  10.495]\n",
            "[ 9.697 10.359]\n",
            "[ 9.951 10.2  ]\n",
            "Students t Intervals:\n",
            "[ 9.169 10.797]\n",
            "[ 9.334 11.549]\n",
            "[ 8.767 11.199]\n",
            "[ 9.085 10.416]\n",
            "[ 9.784 10.571]\n",
            "[9.366 9.954]\n",
            "[ 9.803 10.061]\n",
            "Bootstrapped Intervals:\n",
            "[ 9.167 11.824]\n",
            "[ 8.741 10.816]\n",
            "[ 9.95  11.673]\n",
            "[ 9.071 10.44 ]\n",
            "[ 9.55  10.422]\n",
            "[ 9.755 10.429]\n",
            "[ 9.847 10.102]\n",
            "Bayesian Credible Intervals:\n",
            "[ 7.051 10.052]\n",
            "[ 8.487 10.451]\n",
            "[ 8.982 10.919]\n",
            "[ 9.224 10.628]\n",
            "[ 9.158 10.035]\n",
            "[ 9.502 10.159]\n",
            "[ 9.879 10.126]\n"
          ]
        }
      ],
      "source": [
        "# Analytic Approach\n",
        "sample = [5, 10, 20, 40, 80, 160, 1000]\n",
        "sigma = 2\n",
        "mu = 10\n",
        "\n",
        "# Part 1: Calculate standard error (std/sqrt(n))\n",
        "print('Standard Error Intervals:')\n",
        "for n in sample:\n",
        "  dist = np.random.normal(mu, sigma, n)\n",
        "  SEM = (np.std(dist) / np.sqrt(n))*1.96\n",
        "  print(np.round([np.mean(dist) - SEM, np.mean(dist)+SEM],decimals=3))\n",
        "\n",
        "# Part 2: \n",
        "print('Students t Intervals:')\n",
        "tval = [2.776, 2.262, 2.093, 2.023, 1.99, 1.975, 1.962]\n",
        "for idx,n in enumerate(sample):\n",
        "  dist = np.random.normal(mu, sigma, n)\n",
        "  SEM = (np.std(dist) / np.sqrt(n))*tval[idx]\n",
        "  print(np.round([np.mean(dist) - SEM, np.mean(dist)+SEM],decimals=3))\n",
        "\n",
        "# Part 3:\n",
        "print('Bootstrapped Intervals:')\n",
        "for n in sample:\n",
        "  dist = np.random.normal(mu, sigma, n)\n",
        "  dist = (dist,)\n",
        "  CI = st.bootstrap(dist,np.mean,confidence_level=0.95)\n",
        "  ci_l, ci_u = CI.confidence_interval\n",
        "  print(np.round([ci_l, ci_u],decimals=3))\n",
        "\n",
        "# Part 4:\n",
        "print('Bayesian Credible Intervals:')\n",
        "for n in sample:\n",
        "  dist = np.random.normal(mu, sigma, n)\n",
        "  SEM = (np.std(dist) / np.sqrt(n))*1.96\n",
        "  print(np.round([np.mean(dist) - SEM, np.mean(dist)+SEM],decimals=3))"
      ]
    }
  ]
}